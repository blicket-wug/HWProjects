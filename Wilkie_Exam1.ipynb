{
  "cells": [
    {
      "cell_type": "markdown",
      "metadata": {
        "id": "view-in-github",
        "colab_type": "text"
      },
      "source": [
        "<a href=\"https://colab.research.google.com/github/blicket-wug/HWProjects/blob/main/Wilkie_Exam1.ipynb\" target=\"_parent\"><img src=\"https://colab.research.google.com/assets/colab-badge.svg\" alt=\"Open In Colab\"/></a>"
      ]
    },
    {
      "cell_type": "code",
      "execution_count": null,
      "metadata": {
        "id": "y8GpoVtvyg8e"
      },
      "outputs": [],
      "source": [
        "#Q1\n",
        "#Establish NP list\n",
        "NP = ['cat', 'dog', 'guinea pig', 'bird', 'rat']\n",
        "\n",
        "#Establish VP list\n",
        "VP = ['sleeps', 'flies', 'scurries', 'eats', 'yells']\n",
        "\n",
        "#Establish Adj list\n",
        "Adj = ['cute', 'silly', 'sleepy','loud','cuddly']\n",
        "\n",
        "#Establish Det list\n",
        "Det = ['my', 'the', 'a']\n",
        "\n",
        "for n in NP:          #Establish n variable from list NP, cycling through list NP\n",
        "  for v in VP:        #Establish v variable from list VP, cycling through list VP\n",
        "    for a in Adj:     #Establish a variable from list Adj, cycling through list Adj\n",
        "      for d in Det:   #Establish d variable from list Det, cycling through list Det\n",
        "        if n != 'bird' and v == 'flies':    #skip if the NP cannot fly (if it isn't a bird)\n",
        "            continue\n",
        "        print(d,' ',a,' ',n,' ',v,sep='')   #print outputs of Det+Adj+NP+VP with spaces between"
      ]
    },
    {
      "cell_type": "code",
      "execution_count": null,
      "metadata": {
        "id": "gsmFF1D81Gdb"
      },
      "outputs": [],
      "source": [
        "#Q3a\n",
        "print('She ate'+' '+'99'+' '+'burritos.')"
      ]
    },
    {
      "cell_type": "code",
      "execution_count": null,
      "metadata": {
        "id": "WHBUUAd42Dvf"
      },
      "outputs": [],
      "source": [
        "#Q3a\n",
        "print('She ate'+' '+str(99)+' '+'burritos.')"
      ]
    },
    {
      "cell_type": "code",
      "source": [
        "#Q3b\n",
        "print('Hello')"
      ],
      "metadata": {
        "id": "B_DH2jM-MJBr"
      },
      "execution_count": null,
      "outputs": []
    },
    {
      "cell_type": "code",
      "source": [
        "#Q3b\n",
        "'Hello'.lower()"
      ],
      "metadata": {
        "id": "m_4WR9WoLfan"
      },
      "execution_count": null,
      "outputs": []
    },
    {
      "cell_type": "code",
      "execution_count": null,
      "metadata": {
        "colab": {
          "base_uri": "https://localhost:8080/"
        },
        "id": "DSKL89DH97ud",
        "outputId": "6054075c-74c7-4e82-ad4c-82650018d04e"
      },
      "outputs": [
        {
          "name": "stdout",
          "output_type": "stream",
          "text": [
            "Drive already mounted at /content/drive; to attempt to forcibly remount, call drive.mount(\"/content/drive\", force_remount=True).\n"
          ]
        }
      ],
      "source": [
        "#Q4\n",
        "\n",
        "#Load and mount Drive\n",
        "from google.colab import drive\n",
        "drive.mount('/content/drive')"
      ]
    },
    {
      "cell_type": "code",
      "execution_count": null,
      "metadata": {
        "id": "_aqdtgSi--kI"
      },
      "outputs": [],
      "source": [
        "#Q4\n",
        "\n",
        "#Set empty lists 'lines' and 'words' and list 'wind'\n",
        "lines = []\n",
        "words = []\n",
        "\n",
        "#Establish path to data\n",
        "path_to_data = '/content/drive/My Drive/Colab Notebooks/alice.txt'\n",
        "#Read in the file\n",
        "f = open(path_to_data, 'r')\n",
        "\n",
        "#Read line by line\n",
        "for line in f:\n",
        "  #Save lines to list\n",
        "  lines.append(line)\n",
        "#Close file\n",
        "f.close()\n",
        "\n",
        "#Establish line range\n",
        "lines = lines[255:1100]\n",
        "\n",
        "#Go through lines one by one\n",
        "for line in lines:\n",
        "  #Break lines into words (at spaces)\n",
        "  wds = line.split()\n",
        "  #Add all words to 'words' list\n",
        "  words += wds\n",
        "\n",
        "#Go through lines one by one\n",
        "for line in lines:\n",
        "  #Search for 'wind'\n",
        "  word = 'wind'\n",
        "  #If the line contains the word\n",
        "  if line.find(word) != -1:\n",
        "    #Print the line and add spaces between the lines\n",
        "    print(line, end='')"
      ]
    }
  ],
  "metadata": {
    "colab": {
      "provenance": [],
      "authorship_tag": "ABX9TyOeuh/PMnPuCdVyhhyC0E1y",
      "include_colab_link": true
    },
    "kernelspec": {
      "display_name": "Python 3",
      "name": "python3"
    },
    "language_info": {
      "name": "python"
    }
  },
  "nbformat": 4,
  "nbformat_minor": 0
}